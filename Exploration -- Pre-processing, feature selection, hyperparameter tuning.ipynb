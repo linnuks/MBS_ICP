{
 "cells": [
  {
   "cell_type": "markdown",
   "metadata": {},
   "source": [
    "## Assignment 4 Group no. 7\n",
    "\n",
    "### Project members\n",
    "Linn Karlsson, linn.karlsson@aces.su.se\n",
    "\n",
    "### Short description of notebook\n",
    "This notebook contains functions for reading my data and evaluating the performance of the gradient boosting classifier (5-fold cross validation with various performance metrics and feature importances). I explore and visualise the laboratory data to select features to use for classification. I train a baseline model and then employ hyperparameter tuning and compare the two."
   ]
  },
  {
   "cell_type": "markdown",
   "metadata": {},
   "source": [
    "## Import packages"
   ]
  },
  {
   "cell_type": "code",
   "execution_count": 1,
   "metadata": {
    "ExecuteTime": {
     "end_time": "2020-01-26T19:05:02.548418Z",
     "start_time": "2020-01-26T19:05:01.896667Z"
    },
    "collapsed": true
   },
   "outputs": [],
   "source": [
    "import numpy as np\n",
    "import glob\n",
    "import pandas as pd\n",
    "import matplotlib.pyplot as plt\n",
    "from tqdm import tqdm\n",
    "\n",
    "from sklearn.model_selection import StratifiedShuffleSplit, train_test_split\n",
    "from sklearn.ensemble import GradientBoostingClassifier, RandomForestClassifier\n",
    "from sklearn.metrics import confusion_matrix, balanced_accuracy_score, precision_score, roc_auc_score\n",
    "import scipy.cluster.hierarchy as shc"
   ]
  },
  {
   "cell_type": "markdown",
   "metadata": {},
   "source": [
    "## Functions"
   ]
  },
  {
   "cell_type": "markdown",
   "metadata": {},
   "source": [
    "### Functions from previous assignments (sort of)\n",
    "\n",
    "This was a function I wrote during the assignments just to double check that my submitted AUC function was working correctly. It is basically just a wrapper around the sklearn AUC function that formats the true labels in a way that the function can handle a multi-class case."
   ]
  },
  {
   "cell_type": "code",
   "execution_count": 2,
   "metadata": {
    "ExecuteTime": {
     "end_time": "2020-01-26T19:05:02.553698Z",
     "start_time": "2020-01-26T19:05:02.550146Z"
    },
    "collapsed": true
   },
   "outputs": [],
   "source": [
    "def sklearn_auc(predictions, test_labels):\n",
    "    # Copy predictions to get df with same shape\n",
    "    true = predictions.copy()\n",
    "    # First fill it with zeros\n",
    "    true[:] = 0\n",
    "    # Then go through the correct labels and put 1's in the corresponding df row\n",
    "    for i, label in test_labels.items():\n",
    "        true.loc[i, label] = 1\n",
    "    # Return the sklearn AUC score\n",
    "    return roc_auc_score(true, predictions, average='weighted')"
   ]
  },
  {
   "cell_type": "markdown",
   "metadata": {},
   "source": [
    "### Other functions"
   ]
  },
  {
   "cell_type": "code",
   "execution_count": 54,
   "metadata": {
    "ExecuteTime": {
     "end_time": "2020-01-26T20:06:33.575749Z",
     "start_time": "2020-01-26T20:06:33.540137Z"
    },
    "collapsed": true
   },
   "outputs": [],
   "source": [
    "def read_MBS(path, redo_subtraction=True):\n",
    "    '''Function to read data from the MBS instrument and redo background subtraction (if using array features).\n",
    "    Also drops some columns that are not really features (e.g. timestamp)'''\n",
    "    # List of data files\n",
    "    flist = glob.glob(path+'*.csv')\n",
    "    flist.sort()\n",
    "    \n",
    "    # Empty list to hold files\n",
    "    data = []\n",
    "    # Shape columns, needed for background addition and subtraction\n",
    "    shape = ['CA1_{}'.format(i) for i in range(512)] + ['CA2_{}'.format(i) for i in range(512)]\n",
    "\n",
    "    for i, f in enumerate(flist):\n",
    "        df = pd.read_csv(f, skiprows=30)\n",
    "        # Pick out aerosol type from file name and add label\n",
    "        df['label'] = f.split('_')[1]\n",
    "        if redo_subtraction:\n",
    "            # Reinsert the background subtraction made by the instrument\n",
    "            df.loc[df['FT'] == 0, shape] = df.loc[df['FT'] == 0, shape] + np.floor(np.mean(df.loc[df['FT'] == 1, shape]))\n",
    "        # Append to list\n",
    "        data.append(df)\n",
    "\n",
    "    # Combine dataframes\n",
    "    data = pd.concat(data)\n",
    "    data.reset_index(inplace=True, drop=True)\n",
    "    \n",
    "    # Drop non-feature columns and unused columns\n",
    "    data.drop(columns=['Time(ms)', 'LASER', 'MPC', 'Total', 'Measured', 'FlrRatio'], inplace=True)\n",
    "    \n",
    "    return data\n",
    "\n",
    "\n",
    "def fivefoldcrossval(X, y, plot=False, return_model=False, **kwargs):\n",
    "    '''Function to do five-fold cross-validation on data X and labels y, \n",
    "    using a default GradientBoostingClassifier from sklearn. 4:1 train:test ratio. \n",
    "    Input:\n",
    "        X : pandas dataframe of samples, features as columns\n",
    "        y : pandas series of correct class labels\n",
    "    Prints average scores (accuracies, AUC, ...) across the five folds, and prints feature importances. \n",
    "    '''\n",
    "    sss = StratifiedShuffleSplit(n_splits=5, test_size=0.2, random_state=0)\n",
    "\n",
    "    accs = []\n",
    "    baccs = []\n",
    "    precs = pd.DataFrame(index=range(5), columns=np.sort(y.unique()))\n",
    "    aucs = []\n",
    "    \n",
    "    cms = []\n",
    "    \n",
    "    i = 0\n",
    "\n",
    "    for train_index, test_index in tqdm(sss.split(X, y)):\n",
    "        X_train, X_test = X.iloc[train_index], X.iloc[test_index]\n",
    "        y_train, y_test = y.iloc[train_index], y.iloc[test_index]\n",
    "\n",
    "        model = GradientBoostingClassifier(random_state=0, **kwargs)\n",
    "        model.fit(X_train, y_train)\n",
    "\n",
    "        accs.append(model.score(X_test, y_test))\n",
    "        \n",
    "        prediction = model.predict(X_test)\n",
    "        pred_probs = pd.DataFrame(model.predict_proba(X_test), index=y_test.index, columns=model.classes_)\n",
    "        \n",
    "        aucs.append(sklearn_auc(pred_probs, y_test))\n",
    "        baccs.append(balanced_accuracy_score(prediction, y_test))\n",
    "        precs.loc[i, :] = precision_score(prediction, y_test, average=None)\n",
    "        i += 1\n",
    "        \n",
    "        cms.append(pd.DataFrame(confusion_matrix(prediction, y_test),\n",
    "                                columns=model.classes_, index=model.classes_))\n",
    "\n",
    "    print('Average performance metrics:')\n",
    "    print('Accuracy: ', np.round(100*np.mean(np.array(accs)), 2), '%')\n",
    "    print('Balanced accuracy: ', np.round(100*np.mean(np.array(baccs)), 2), '%')\n",
    "    print('Precision: ')\n",
    "    display(precs.mean(axis=0))\n",
    "    print('AUC: ', np.mean(aucs))\n",
    "    print('Confusion matrix (sum):')\n",
    "    display(sum(cms))\n",
    "    model = GradientBoostingClassifier(random_state=0, **kwargs)\n",
    "    model.fit(X, y)\n",
    "    print('Feature importances:')\n",
    "    importances = pd.Series(model.feature_importances_, index=X_train.columns)\n",
    "    if plot:\n",
    "        importances.sort_values(ascending=False).plot(kind='bar')\n",
    "        plt.ylabel('Feature Importance Score')\n",
    "    else:\n",
    "        print('Fluorescence:\\t', np.round(100*np.sum(importances[fluor]), 2), '%')\n",
    "        print('Size:\\t\\t', np.round(100*importances['Size'], 2), '%')\n",
    "        print('TOF:\\t\\t', np.round(100*importances['TOF'], 2), '%')\n",
    "        print('Shape:\\t\\t', np.round(100*np.sum(importances.drop(fluor+['Size', 'TOF'])), 2), '%, ({} shape features)'.format(len(importances.index.drop(fluor+['Size', 'TOF']))))\n",
    "    \n",
    "    if return_model:\n",
    "        return model\n",
    "    \n",
    "    \n",
    "def fivefold_score(X, y, **kwargs):\n",
    "    '''Function to print ROC AUC scores for five-fold cross validation.\n",
    "    Input:\n",
    "        X : pandas dataframe of samples, features as columns\n",
    "        y : pandas series of correct class labels\n",
    "    Prints AUC mean and std across the five folds. Using this for parameter tuning...'''\n",
    "    sss = StratifiedShuffleSplit(n_splits=5, test_size=0.2, random_state=0)\n",
    "\n",
    "    aucs = []\n",
    "\n",
    "    for train_index, test_index in sss.split(X, y):\n",
    "        X_train, X_test = X.iloc[train_index], X.iloc[test_index]\n",
    "        y_train, y_test = y.iloc[train_index], y.iloc[test_index]\n",
    "\n",
    "        model = GradientBoostingClassifier(random_state=0, **kwargs)\n",
    "        model.fit(X_train, y_train)\n",
    "\n",
    "        pred_probs = pd.DataFrame(model.predict_proba(X_test), index=y_test.index, columns=model.classes_)\n",
    "        aucs.append(sklearn_auc(pred_probs, y_test))\n",
    "\n",
    "    return [np.round(np.mean(aucs), 4), np.round(np.std(aucs), 4)]\n",
    "\n",
    "\n"
   ]
  },
  {
   "cell_type": "markdown",
   "metadata": {},
   "source": [
    "## Read and preprocess data "
   ]
  },
  {
   "cell_type": "markdown",
   "metadata": {},
   "source": [
    "### Read data"
   ]
  },
  {
   "cell_type": "code",
   "execution_count": 4,
   "metadata": {
    "ExecuteTime": {
     "end_time": "2020-01-26T19:05:34.163529Z",
     "start_time": "2020-01-26T19:05:02.581962Z"
    },
    "collapsed": true
   },
   "outputs": [],
   "source": [
    "data = read_MBS('./data/', redo_subtraction=True)"
   ]
  },
  {
   "cell_type": "markdown",
   "metadata": {},
   "source": [
    "### Redo the background subtraction\n",
    "\n",
    "The instrument automatically makes a background subtraction for the shape measurements. It does this once per data file. Since each data file contains a different type of particle, this means that particles of the same type will have the same background subtraction. This, in turn, leads to 'overfitting' where the model can accurately distinguish between particle types, but not because of any real particle features but rather because of the \"background signal\" in shape channels that are mostly noise (Simon Ruske, personal communication). Thus, we have to reinsert the instrument's background subtraction (done in the function above), and then make a new one using the average background measurement across all data files."
   ]
  },
  {
   "cell_type": "markdown",
   "metadata": {},
   "source": [
    "#### Check if this makes sense to do (ie, if the FT measurements are relatively similar across the files)\n"
   ]
  },
  {
   "cell_type": "code",
   "execution_count": 5,
   "metadata": {
    "ExecuteTime": {
     "end_time": "2020-01-26T19:05:34.412667Z",
     "start_time": "2020-01-26T19:05:34.165459Z"
    }
   },
   "outputs": [
    {
     "data": {
      "image/png": "[encoded data removed]",
      "text/plain": [
       "<Figure size 576x216 with 1 Axes>"
      ]
     },
     "metadata": {
      "needs_background": "light"
     },
     "output_type": "display_data"
    }
   ],
   "source": [
    "# (I average all the 1024 channels, not sure how else to represent them...)\n",
    "shape = ['CA1_{}'.format(i) for i in range(512)] + ['CA2_{}'.format(i) for i in range(512)]\n",
    "background = data.loc[data['FT']==1, shape].mean(axis=1).reset_index(drop=True)\n",
    "# Want to know which data are from which file\n",
    "names = data.loc[data['FT']==1, 'label'].reset_index(drop=True)\n",
    "\n",
    "plt.figure(figsize=(8, 3))\n",
    "for name in names.unique():\n",
    "    plt.scatter(background[names == name].index, background[names == name].values, label=name)\n",
    "plt.legend(bbox_to_anchor=[1, 1])\n",
    "\n",
    "plt.ylabel('Mean FT across shape channels')\n",
    "plt.tight_layout()\n",
    "plt.show()"
   ]
  },
  {
   "cell_type": "markdown",
   "metadata": {},
   "source": [
    "The pbs sample seems to have a different FT background than the other files. The difference is small, but including it for the average FT measurements across all files for the background subtraction could potentially introduce a bias. \n",
    "\n",
    "&rarr; I will remove the pbs data for the time being. If I don't use them they could actually be used as a test at the end, to see if particles with a different background subtraction can still be classified with any accuracy (pbs should be similar enough to NaCl for this comparison to make sense)."
   ]
  },
  {
   "cell_type": "code",
   "execution_count": 6,
   "metadata": {
    "ExecuteTime": {
     "end_time": "2020-01-26T19:05:34.502942Z",
     "start_time": "2020-01-26T19:05:34.413801Z"
    }
   },
   "outputs": [
    {
     "name": "stdout",
     "output_type": "stream",
     "text": [
      "Removing 1428 pbs samples\n"
     ]
    }
   ],
   "source": [
    "# Remove pbs\n",
    "print('Removing {} pbs samples'.format(len(data[data.label=='pbs'])))\n",
    "data = data[data.label != 'pbs']"
   ]
  },
  {
   "cell_type": "code",
   "execution_count": 7,
   "metadata": {
    "ExecuteTime": {
     "end_time": "2020-01-26T19:05:35.441350Z",
     "start_time": "2020-01-26T19:05:34.504878Z"
    },
    "collapsed": true
   },
   "outputs": [],
   "source": [
    "# Do new background subtraction using FT measurements from all files\n",
    "data.loc[data['FT'] == 0, shape] = data.loc[data['FT'] == 0, shape] - np.floor(np.mean(data.loc[data['FT'] == 1, shape]))"
   ]
  },
  {
   "cell_type": "markdown",
   "metadata": {},
   "source": [
    "### Divide data into training, test, and calibration sets"
   ]
  },
  {
   "cell_type": "markdown",
   "metadata": {},
   "source": [
    "#### Pick out non-background data and make some column groups"
   ]
  },
  {
   "cell_type": "code",
   "execution_count": 8,
   "metadata": {
    "ExecuteTime": {
     "end_time": "2020-01-26T19:05:35.597153Z",
     "start_time": "2020-01-26T19:05:35.442561Z"
    },
    "collapsed": true
   },
   "outputs": [],
   "source": [
    "# Drop forced trigger measurements (blanks)\n",
    "data = data[data.FT == 0]\n",
    "data.drop(columns=['FT'], inplace=True)\n",
    "\n",
    "shape = ['CA1_{}'.format(i) for i in range(512)] + ['CA2_{}'.format(i) for i in range(512)]\n",
    "fluor = ['XE1_{}'.format(i+1) for i in range(8)]\n",
    "other = ['Size', 'TOF', 'label']\n",
    "stats = data.columns.drop(shape+fluor+other)"
   ]
  },
  {
   "cell_type": "code",
   "execution_count": 9,
   "metadata": {
    "ExecuteTime": {
     "end_time": "2020-01-26T19:05:35.639441Z",
     "start_time": "2020-01-26T19:05:35.598400Z"
    },
    "collapsed": true
   },
   "outputs": [],
   "source": [
    "# Original data\n",
    "data_all = data.copy()"
   ]
  },
  {
   "cell_type": "code",
   "execution_count": 10,
   "metadata": {
    "ExecuteTime": {
     "end_time": "2020-01-26T19:05:35.705630Z",
     "start_time": "2020-01-26T19:05:35.640562Z"
    },
    "collapsed": true
   },
   "outputs": [],
   "source": [
    "# Separate data from labels\n",
    "labels = data['label']\n",
    "data = data_all.drop(columns=['label']+list(stats))"
   ]
  },
  {
   "cell_type": "markdown",
   "metadata": {},
   "source": [
    "Ruske et al. (2017) used the full shape measurements (1024) and not the statistics calculated from them (22), which is why I drop the stats above. However, I will most likely try and see what happens if I use the stats instead at a later stage...    "
   ]
  },
  {
   "cell_type": "markdown",
   "metadata": {},
   "source": [
    "#### Split data into training, calibration, and test sets\n",
    "50% training <br>\n",
    "25% calibration <br>\n",
    "25% test"
   ]
  },
  {
   "cell_type": "code",
   "execution_count": 11,
   "metadata": {
    "ExecuteTime": {
     "end_time": "2020-01-26T19:05:35.820677Z",
     "start_time": "2020-01-26T19:05:35.707407Z"
    },
    "collapsed": true
   },
   "outputs": [],
   "source": [
    "# First split into training (50% of total data) and test (25% of total data) sets\n",
    "data_train, data_test, labels_train, labels_test = train_test_split(data, labels,\n",
    "                                                                    test_size=0.25,\n",
    "                                                                    train_size=0.5,\n",
    "                                                                    stratify=labels,\n",
    "                                                                    shuffle=True,\n",
    "                                                                    random_state=0)\n",
    "# The above used only 75% of the data.\n",
    "# The remaining 25% is also stratified and will be used as the calibration set.\n",
    "idx_cal = data.index ^ data_train.index ^ data_test.index\n",
    "idx_cal = np.random.permutation(idx_cal)\n",
    "data_cal, labels_cal = data.loc[idx_cal], labels.loc[idx_cal]"
   ]
  },
  {
   "cell_type": "markdown",
   "metadata": {},
   "source": [
    "### Can I replicate the results from Ruske et al. (2017)?\n"
   ]
  },
  {
   "cell_type": "code",
   "execution_count": 12,
   "metadata": {
    "ExecuteTime": {
     "end_time": "2020-01-26T19:05:35.828338Z",
     "start_time": "2020-01-26T19:05:35.822477Z"
    },
    "collapsed": true
   },
   "outputs": [],
   "source": [
    "# Broad class labels used by Ruske et al. (2017)\n",
    "alt_labels = {'1%nacl': 'non-bio', 'fullersearth': 'non-bio', 'pbs': 'non-bio', 'puffball': 'fungal',\n",
    "              'unwashedEcoli': 'bacteria', 'unwashedBGspores': 'bacteria', 'washedBGspores': 'bacteria',\n",
    "              'papermulberry': 'pollen', 'poplarpollen': 'pollen', 'aspenpollen': 'pollen'}\n"
   ]
  },
  {
   "cell_type": "markdown",
   "metadata": {},
   "source": [
    "Non-biological: 1%NaCl, Fuller's earth dust, Phosphate buffered saline (pbs; **removed here**) <br>\n",
    "Pollen: Paper mulberry, Poplar, Aspen <br>\n",
    "Bacteria: Unwashed E. coli., Unwashed BG spores, Washed BG spores <br>\n",
    "Fungal spores: Puffball"
   ]
  },
  {
   "cell_type": "markdown",
   "metadata": {},
   "source": [
    "#### 5-fold cross-validation using stratified splits"
   ]
  },
  {
   "cell_type": "code",
   "execution_count": 13,
   "metadata": {
    "ExecuteTime": {
     "end_time": "2020-01-26T19:14:05.213384Z",
     "start_time": "2020-01-26T19:05:35.829475Z"
    }
   },
   "outputs": [
    {
     "name": "stderr",
     "output_type": "stream",
     "text": [
      "5it [06:46, 81.43s/it]"
     ]
    },
    {
     "name": "stdout",
     "output_type": "stream",
     "text": [
      "Average performance metrics:\n",
      "Accuracy:  81.14 %\n",
      "Balanced accuracy:  83.14 %\n",
      "Precision: \n"
     ]
    },
    {
     "name": "stderr",
     "output_type": "stream",
     "text": [
      "\n"
     ]
    },
    {
     "data": {
      "text/plain": [
       "bacteria    0.887023\n",
       "fungal      0.369349\n",
       "non-bio     0.937984\n",
       "pollen      0.698990\n",
       "dtype: float64"
      ]
     },
     "metadata": {},
     "output_type": "display_data"
    },
    {
     "name": "stdout",
     "output_type": "stream",
     "text": [
      "AUC:  0.9374733471690113\n",
      "Confusion matrix (sum):\n"
     ]
    },
    {
     "data": {
      "text/html": [
       "<div>\n",
       "<style scoped>\n",
       "    .dataframe tbody tr th:only-of-type {\n",
       "        vertical-align: middle;\n",
       "    }\n",
       "\n",
       "    .dataframe tbody tr th {\n",
       "        vertical-align: top;\n",
       "    }\n",
       "\n",
       "    .dataframe thead th {\n",
       "        text-align: right;\n",
       "    }\n",
       "</style>\n",
       "<table border=\"1\" class=\"dataframe\">\n",
       "  <thead>\n",
       "    <tr style=\"text-align: right;\">\n",
       "      <th></th>\n",
       "      <th>bacteria</th>\n",
       "      <th>fungal</th>\n",
       "      <th>non-bio</th>\n",
       "      <th>pollen</th>\n",
       "    </tr>\n",
       "  </thead>\n",
       "  <tbody>\n",
       "    <tr>\n",
       "      <th>bacteria</th>\n",
       "      <td>2324</td>\n",
       "      <td>43</td>\n",
       "      <td>90</td>\n",
       "      <td>32</td>\n",
       "    </tr>\n",
       "    <tr>\n",
       "      <th>fungal</th>\n",
       "      <td>15</td>\n",
       "      <td>482</td>\n",
       "      <td>115</td>\n",
       "      <td>38</td>\n",
       "    </tr>\n",
       "    <tr>\n",
       "      <th>non-bio</th>\n",
       "      <td>268</td>\n",
       "      <td>755</td>\n",
       "      <td>3630</td>\n",
       "      <td>228</td>\n",
       "    </tr>\n",
       "    <tr>\n",
       "      <th>pollen</th>\n",
       "      <td>13</td>\n",
       "      <td>25</td>\n",
       "      <td>35</td>\n",
       "      <td>692</td>\n",
       "    </tr>\n",
       "  </tbody>\n",
       "</table>\n",
       "</div>"
      ],
      "text/plain": [
       "          bacteria  fungal  non-bio  pollen\n",
       "bacteria      2324      43       90      32\n",
       "fungal          15     482      115      38\n",
       "non-bio        268     755     3630     228\n",
       "pollen          13      25       35     692"
      ]
     },
     "metadata": {},
     "output_type": "display_data"
    },
    {
     "name": "stdout",
     "output_type": "stream",
     "text": [
      "Feature importances:\n",
      "Fluorescence:\t 58.8 %\n",
      "Size:\t\t 1.92 %\n",
      "TOF:\t\t 13.11 %\n",
      "Shape:\t\t 26.18 %, (1024 shape features)\n"
     ]
    }
   ],
   "source": [
    "X = data_train.copy()\n",
    "y = labels_train.replace(alt_labels)\n",
    "\n",
    "fivefoldcrossval(X, y)"
   ]
  },
  {
   "cell_type": "markdown",
   "metadata": {},
   "source": [
    "Ruske et al. (2017) reported 82.8% accuracy, I get 81.1%. Given that I have excluded the pbs data (1428 samples) and only use half of the remaining samples as training data, I think the difference is small enough to be considered as matching their results."
   ]
  },
  {
   "cell_type": "markdown",
   "metadata": {},
   "source": [
    "## Feature selection"
   ]
  },
  {
   "cell_type": "code",
   "execution_count": 14,
   "metadata": {
    "ExecuteTime": {
     "end_time": "2020-01-26T19:14:05.218658Z",
     "start_time": "2020-01-26T19:14:05.215044Z"
    }
   },
   "outputs": [
    {
     "data": {
      "text/plain": [
       "(8784, 1034)"
      ]
     },
     "execution_count": 14,
     "metadata": {},
     "output_type": "execute_result"
    }
   ],
   "source": [
    "data_train.shape"
   ]
  },
  {
   "cell_type": "markdown",
   "metadata": {},
   "source": [
    "We have a large number of features (1034) compared to the number of samples (8784). Reducing the dimensionality is probably a good idea here! The shape parameters make up 1024 of the features, so they are the best place to start looking..."
   ]
  },
  {
   "cell_type": "markdown",
   "metadata": {},
   "source": [
    "### Look at the shape features of the training data"
   ]
  },
  {
   "cell_type": "code",
   "execution_count": 15,
   "metadata": {
    "ExecuteTime": {
     "end_time": "2020-01-26T19:14:10.430449Z",
     "start_time": "2020-01-26T19:14:05.220259Z"
    }
   },
   "outputs": [
    {
     "data": {
      "image/png": "[encoded data removed]",
      "text/plain": [
       "<Figure size 1080x216 with 4 Axes>"
      ]
     },
     "metadata": {
      "needs_background": "light"
     },
     "output_type": "display_data"
    }
   ],
   "source": [
    "fig, ax = plt.subplots(nrows=1, ncols=2, figsize=(15, 3))\n",
    "\n",
    "im0 = ax[0].pcolormesh(data_train[shape[:512]].T, vmin=0, vmax=20)\n",
    "plt.colorbar(im0, ax=ax[0])\n",
    "ax[0].set_title('CMOS array 1')\n",
    "ax[0].set_ylabel('channel')\n",
    "ax[0].set_xlabel('sample')\n",
    "\n",
    "im1 = ax[1].pcolormesh(data_train[shape[512:]].T, vmin=0, vmax=20)\n",
    "plt.colorbar(im1, ax=ax[1])\n",
    "ax[1].set_title('CMOS array 2')\n",
    "ax[1].set_ylabel('channel')\n",
    "ax[1].set_xlabel('sample')\n",
    "\n",
    "plt.show()"
   ]
  },
  {
   "cell_type": "markdown",
   "metadata": {},
   "source": [
    "Capped colourbar at 20 au because I am most interested in the noise. <br>\n",
    "* It is immediately obvious that some channels are just noise and not actual data\n",
    "* The noise channels are not exactly the same for the two arrays, i.e. the arrays are aligned differently\n",
    "\n",
    "Questions arise: <br>\n",
    "1. Should the channels be removed, and if so which ones?<br>\n",
    "2. Would the redoing of the background subtraction (above) still be necessary if the channels were removed? <br>\n",
    "3. The array alignment is unlikely to be exactly the same for different instruments -- how to deal with this?"
   ]
  },
  {
   "cell_type": "markdown",
   "metadata": {},
   "source": [
    "#### 1. Identifying which channels to remove"
   ]
  },
  {
   "cell_type": "code",
   "execution_count": 16,
   "metadata": {
    "ExecuteTime": {
     "end_time": "2020-01-26T19:14:11.112900Z",
     "start_time": "2020-01-26T19:14:10.431792Z"
    }
   },
   "outputs": [
    {
     "data": {
      "image/png": "[encoded data removed]",
      "text/plain": [
       "<Figure size 1080x216 with 2 Axes>"
      ]
     },
     "metadata": {
      "needs_background": "light"
     },
     "output_type": "display_data"
    }
   ],
   "source": [
    "fig, ax = plt.subplots(nrows=1, ncols=2, figsize=(15, 3))\n",
    "\n",
    "# # FIRST ARRAY (max values)\n",
    "cmos1 = data_train[shape[:512]].max().reset_index(drop=True)\n",
    "cmos1.plot(style='.', logy=True, ax=ax[0])\n",
    "# Identifying channels to drop from plot (tweaking the numbers until it looks alright)\n",
    "ch_1 = np.arange(len(cmos1))\n",
    "l_drop1 = (ch_1 < 70) & (cmos1 < 200)\n",
    "r_drop1 = (ch_1 > 434) & (cmos1 < 200)\n",
    "\n",
    "cmos1.iloc[(l_drop1 | r_drop1).values].plot(style='.', color='red', ax=ax[0])\n",
    "\n",
    "cmos1_drop = np.array(shape[:512])[(l_drop1 | r_drop1).values]\n",
    "\n",
    "ax[0].set_title('CMOS array 1, noise channels: {}'.format(len(cmos1_drop)))\n",
    "ax[0].set_ylabel('max value')\n",
    "ax[0].set_xlabel('channel')\n",
    "\n",
    "# # SECOND ARRAY (max values)\n",
    "cmos2 = data_train[shape[512:]].max().reset_index(drop=True)\n",
    "cmos2.plot(style='.', logy=True, ax=ax[1])\n",
    "# Identifying channels to drop from plot\n",
    "ch_2 = np.arange(len(cmos2))\n",
    "l_drop2 = (ch_2 < 55) & (cmos2 < 200)\n",
    "r_drop2 = (ch_2 > 432) & (cmos2 < 200)\n",
    "\n",
    "cmos2.iloc[(l_drop2 | r_drop2).values].plot(style='.', color='red', ax=ax[1])\n",
    "\n",
    "cmos2_drop = np.array(shape[512:])[(l_drop2 | r_drop2).values]\n",
    "\n",
    "ax[1].set_title('CMOS array 2, noise channels: {}'.format(len(cmos2_drop)))\n",
    "ax[1].set_ylabel('max value')\n",
    "ax[1].set_xlabel('channel')\n",
    "\n",
    "plt.show()"
   ]
  },
  {
   "cell_type": "markdown",
   "metadata": {},
   "source": [
    "I have tried to remove too much rather than too little, in the hopes that applying this \"filter\" to data from other instruments will remove most of the noise there also... "
   ]
  },
  {
   "cell_type": "markdown",
   "metadata": {},
   "source": [
    "##### Does removing them make a difference in the model's accuracy?"
   ]
  },
  {
   "cell_type": "code",
   "execution_count": 17,
   "metadata": {
    "ExecuteTime": {
     "end_time": "2020-01-26T19:20:17.096894Z",
     "start_time": "2020-01-26T19:14:11.114021Z"
    }
   },
   "outputs": [
    {
     "name": "stderr",
     "output_type": "stream",
     "text": [
      "5it [04:53, 58.77s/it]"
     ]
    },
    {
     "name": "stdout",
     "output_type": "stream",
     "text": [
      "Average performance metrics:\n",
      "Accuracy:  79.76 %\n",
      "Balanced accuracy:  80.82 %\n",
      "Precision: \n"
     ]
    },
    {
     "name": "stderr",
     "output_type": "stream",
     "text": [
      "\n"
     ]
    },
    {
     "data": {
      "text/plain": [
       "bacteria    0.888550\n",
       "fungal      0.301916\n",
       "non-bio     0.935142\n",
       "pollen      0.672727\n",
       "dtype: float64"
      ]
     },
     "metadata": {},
     "output_type": "display_data"
    },
    {
     "name": "stdout",
     "output_type": "stream",
     "text": [
      "AUC:  0.9297719784038018\n",
      "Confusion matrix (sum):\n"
     ]
    },
    {
     "data": {
      "text/html": [
       "<div>\n",
       "<style scoped>\n",
       "    .dataframe tbody tr th:only-of-type {\n",
       "        vertical-align: middle;\n",
       "    }\n",
       "\n",
       "    .dataframe tbody tr th {\n",
       "        vertical-align: top;\n",
       "    }\n",
       "\n",
       "    .dataframe thead th {\n",
       "        text-align: right;\n",
       "    }\n",
       "</style>\n",
       "<table border=\"1\" class=\"dataframe\">\n",
       "  <thead>\n",
       "    <tr style=\"text-align: right;\">\n",
       "      <th></th>\n",
       "      <th>bacteria</th>\n",
       "      <th>fungal</th>\n",
       "      <th>non-bio</th>\n",
       "      <th>pollen</th>\n",
       "    </tr>\n",
       "  </thead>\n",
       "  <tbody>\n",
       "    <tr>\n",
       "      <th>bacteria</th>\n",
       "      <td>2328</td>\n",
       "      <td>39</td>\n",
       "      <td>95</td>\n",
       "      <td>35</td>\n",
       "    </tr>\n",
       "    <tr>\n",
       "      <th>fungal</th>\n",
       "      <td>8</td>\n",
       "      <td>394</td>\n",
       "      <td>124</td>\n",
       "      <td>50</td>\n",
       "    </tr>\n",
       "    <tr>\n",
       "      <th>non-bio</th>\n",
       "      <td>269</td>\n",
       "      <td>833</td>\n",
       "      <td>3619</td>\n",
       "      <td>239</td>\n",
       "    </tr>\n",
       "    <tr>\n",
       "      <th>pollen</th>\n",
       "      <td>15</td>\n",
       "      <td>39</td>\n",
       "      <td>32</td>\n",
       "      <td>666</td>\n",
       "    </tr>\n",
       "  </tbody>\n",
       "</table>\n",
       "</div>"
      ],
      "text/plain": [
       "          bacteria  fungal  non-bio  pollen\n",
       "bacteria      2328      39       95      35\n",
       "fungal           8     394      124      50\n",
       "non-bio        269     833     3619     239\n",
       "pollen          15      39       32     666"
      ]
     },
     "metadata": {},
     "output_type": "display_data"
    },
    {
     "name": "stdout",
     "output_type": "stream",
     "text": [
      "Feature importances:\n",
      "Fluorescence:\t 60.23 %\n",
      "Size:\t\t 2.58 %\n",
      "TOF:\t\t 13.18 %\n",
      "Shape:\t\t 24.0 %, (746 shape features)\n"
     ]
    }
   ],
   "source": [
    "# Drop the noise channels in the data before learning the model\n",
    "X = data_train.drop(columns=list(cmos1_drop)+list(cmos2_drop))\n",
    "y = labels_train.replace(alt_labels)\n",
    "\n",
    "fivefoldcrossval(X, y)"
   ]
  },
  {
   "cell_type": "markdown",
   "metadata": {},
   "source": [
    "The accuracy dropped by ~1.4 %. This is not a lot, and it is easier to justify removing the noise than it is to keep it. \n",
    "\n",
    "&rarr; Remove noise channels"
   ]
  },
  {
   "cell_type": "markdown",
   "metadata": {},
   "source": [
    "#### 2. Does removing the noise channels make redoing the background subtraction unnecessary?"
   ]
  },
  {
   "cell_type": "code",
   "execution_count": 18,
   "metadata": {
    "ExecuteTime": {
     "end_time": "2020-01-26T19:20:19.393396Z",
     "start_time": "2020-01-26T19:20:17.101454Z"
    },
    "collapsed": true
   },
   "outputs": [],
   "source": [
    "# Re-read data, but don't undo the background subtraction made by the instrument\n",
    "data_new = read_MBS('./data/', redo_subtraction=False)\n",
    "\n",
    "# Drop pbs to make comparison fair since I dropped that before\n",
    "data_new = data_new[data_new.label != 'pbs']\n",
    "\n",
    "# Drop forced trigger measurements (blanks)\n",
    "data_new = data_new[data_new.FT == 0]\n",
    "\n",
    "# Separate data from labels\n",
    "labels_new = data_new['label']\n",
    "data_new = data_new.drop(columns=['label']+list(stats))"
   ]
  },
  {
   "cell_type": "markdown",
   "metadata": {},
   "source": [
    "##### Re-do split into training and test"
   ]
  },
  {
   "cell_type": "code",
   "execution_count": 19,
   "metadata": {
    "ExecuteTime": {
     "end_time": "2020-01-26T19:20:19.491250Z",
     "start_time": "2020-01-26T19:20:19.394916Z"
    },
    "collapsed": true
   },
   "outputs": [],
   "source": [
    "# Split into training (50% of total new) and test (25% of total new) sets\n",
    "new_train, new_test, labels_new_train, labels_new_test = train_test_split(data_new, labels_new,\n",
    "                                                                          test_size=0.25,\n",
    "                                                                          train_size=0.5,\n",
    "                                                                          stratify=labels_new,\n",
    "                                                                          shuffle=True,\n",
    "                                                                          random_state=0)"
   ]
  },
  {
   "cell_type": "markdown",
   "metadata": {},
   "source": [
    "##### 5-fold cross-validation using stratified splits"
   ]
  },
  {
   "cell_type": "code",
   "execution_count": 20,
   "metadata": {
    "ExecuteTime": {
     "end_time": "2020-01-26T19:26:54.009254Z",
     "start_time": "2020-01-26T19:20:19.492546Z"
    }
   },
   "outputs": [
    {
     "name": "stderr",
     "output_type": "stream",
     "text": [
      "5it [05:15, 63.26s/it]"
     ]
    },
    {
     "name": "stdout",
     "output_type": "stream",
     "text": [
      "Average performance metrics:\n",
      "Accuracy:  95.95 %\n",
      "Balanced accuracy:  96.06 %\n",
      "Precision: \n"
     ]
    },
    {
     "name": "stderr",
     "output_type": "stream",
     "text": [
      "\n"
     ]
    },
    {
     "data": {
      "text/plain": [
       "bacteria    0.980534\n",
       "fungal      0.904981\n",
       "non-bio     0.989922\n",
       "pollen      0.856566\n",
       "dtype: float64"
      ]
     },
     "metadata": {},
     "output_type": "display_data"
    },
    {
     "name": "stdout",
     "output_type": "stream",
     "text": [
      "AUC:  0.997616607140794\n",
      "Confusion matrix (sum):\n"
     ]
    },
    {
     "data": {
      "text/html": [
       "<div>\n",
       "<style scoped>\n",
       "    .dataframe tbody tr th:only-of-type {\n",
       "        vertical-align: middle;\n",
       "    }\n",
       "\n",
       "    .dataframe tbody tr th {\n",
       "        vertical-align: top;\n",
       "    }\n",
       "\n",
       "    .dataframe thead th {\n",
       "        text-align: right;\n",
       "    }\n",
       "</style>\n",
       "<table border=\"1\" class=\"dataframe\">\n",
       "  <thead>\n",
       "    <tr style=\"text-align: right;\">\n",
       "      <th></th>\n",
       "      <th>bacteria</th>\n",
       "      <th>fungal</th>\n",
       "      <th>non-bio</th>\n",
       "      <th>pollen</th>\n",
       "    </tr>\n",
       "  </thead>\n",
       "  <tbody>\n",
       "    <tr>\n",
       "      <th>bacteria</th>\n",
       "      <td>2569</td>\n",
       "      <td>6</td>\n",
       "      <td>5</td>\n",
       "      <td>25</td>\n",
       "    </tr>\n",
       "    <tr>\n",
       "      <th>fungal</th>\n",
       "      <td>10</td>\n",
       "      <td>1181</td>\n",
       "      <td>19</td>\n",
       "      <td>17</td>\n",
       "    </tr>\n",
       "    <tr>\n",
       "      <th>non-bio</th>\n",
       "      <td>31</td>\n",
       "      <td>98</td>\n",
       "      <td>3831</td>\n",
       "      <td>100</td>\n",
       "    </tr>\n",
       "    <tr>\n",
       "      <th>pollen</th>\n",
       "      <td>10</td>\n",
       "      <td>20</td>\n",
       "      <td>15</td>\n",
       "      <td>848</td>\n",
       "    </tr>\n",
       "  </tbody>\n",
       "</table>\n",
       "</div>"
      ],
      "text/plain": [
       "          bacteria  fungal  non-bio  pollen\n",
       "bacteria      2569       6        5      25\n",
       "fungal          10    1181       19      17\n",
       "non-bio         31      98     3831     100\n",
       "pollen          10      20       15     848"
      ]
     },
     "metadata": {},
     "output_type": "display_data"
    },
    {
     "name": "stdout",
     "output_type": "stream",
     "text": [
      "Feature importances:\n",
      "Fluorescence:\t 37.54 %\n",
      "Size:\t\t 0.72 %\n",
      "TOF:\t\t 7.81 %\n",
      "Shape:\t\t 53.93 %, (747 shape features)\n"
     ]
    }
   ],
   "source": [
    "# Drop the noise channels in the data before learning the model\n",
    "X = new_train.drop(columns=list(cmos1_drop)+list(cmos2_drop))\n",
    "y = labels_new_train.replace(alt_labels)\n",
    "\n",
    "fivefoldcrossval(X, y)"
   ]
  },
  {
   "cell_type": "markdown",
   "metadata": {},
   "source": [
    "Despite having reduced the number of features and removed all the channels that are definitely only noise, the accuracy is still way too high compared to that of the data with the redone background subtraction (see above). The shape parameters also carry most of the weight, which is another indication that the issue is still there.\n",
    "\n",
    "&rarr; Simply removing the noise channels is not enough to avoid the \"overfitting\" problem"
   ]
  },
  {
   "cell_type": "markdown",
   "metadata": {},
   "source": [
    "#### 3. The issue of array alignment of different MBS instruments "
   ]
  },
  {
   "cell_type": "markdown",
   "metadata": {},
   "source": [
    "##### Read other data from our MBS instrument (different from Ruske et al., 2017)"
   ]
  },
  {
   "cell_type": "code",
   "execution_count": 21,
   "metadata": {
    "ExecuteTime": {
     "end_time": "2020-01-26T19:26:56.020042Z",
     "start_time": "2020-01-26T19:26:54.010808Z"
    },
    "collapsed": true
   },
   "outputs": [],
   "source": [
    "otherdata = pd.read_csv('/home/linn/PhD/projects/MBS/data/ACES_lab_Jan2018_0000_0008.csv', skiprows=32)\n",
    "\n",
    "otherdata = otherdata.loc[otherdata.FT == 0, shape].max().reset_index(drop=True)"
   ]
  },
  {
   "cell_type": "markdown",
   "metadata": {},
   "source": [
    "##### Plot the maximum shape channel values, and colour the noise channels from the OTHER instrument"
   ]
  },
  {
   "cell_type": "code",
   "execution_count": 22,
   "metadata": {
    "ExecuteTime": {
     "end_time": "2020-01-26T19:26:56.367216Z",
     "start_time": "2020-01-26T19:26:56.021080Z"
    }
   },
   "outputs": [
    {
     "data": {
      "image/png": "[encoded data removed]",
      "text/plain": [
       "<Figure size 1080x216 with 2 Axes>"
      ]
     },
     "metadata": {
      "needs_background": "light"
     },
     "output_type": "display_data"
    }
   ],
   "source": [
    "fig, ax = plt.subplots(nrows=1, ncols=2, figsize=(15, 3))\n",
    "\n",
    "otherdata.iloc[:512].plot(style='.', logy=True, ax=ax[0], label='Our instrument data')\n",
    "otherdata.iloc[:512].iloc[(l_drop1 | r_drop1).values].plot(style='.', color='red', ax=ax[0],\n",
    "                                                           label=\"What would be cut based\\non Ruske's instrument\")\n",
    "\n",
    "ax[0].set_title('CMOS array 1')\n",
    "ax[0].set_ylabel('max value')\n",
    "ax[0].set_xlabel('channel')\n",
    "\n",
    "otherdata.iloc[512:].plot(style='.', logy=True, ax=ax[1], label='Our instrument data')\n",
    "otherdata.iloc[512:].iloc[(l_drop2 | r_drop2).values].plot(style='.', color='red', ax=ax[1],\n",
    "                                                           label=\"What would be cut based\\non Ruske's instrument\")\n",
    "\n",
    "ax[1].set_title('CMOS array 2')\n",
    "ax[1].set_ylabel('max value')\n",
    "ax[1].set_xlabel('channel')\n",
    "ax[1].legend()\n",
    "\n",
    "plt.show()"
   ]
  },
  {
   "cell_type": "markdown",
   "metadata": {},
   "source": [
    "The alignment seems to be similar, but not exactly the same. This suggests that removing the noise features from the model training is not completely straight-forward. Does an array pixel position in one instrument correspond to the same position in another instrument? What does this mean for training the model? Presumably a different alignment would affect how a particle is classified. I guess many things come into play here, such as the orientation and position of the particles as they pass through the instrument, et cetera. It is far beyond the scope of this project to investigate this in depth.\n",
    "\n",
    "A possible solution would be to be a bit more aggressive in how many features are removed, for example removing 80 channels from each edge for each array, and then binning or smoothing the remaining features to help reduce the effect of potential misalignment. I do not know if this would be enough, though..."
   ]
  },
  {
   "cell_type": "code",
   "execution_count": 23,
   "metadata": {
    "ExecuteTime": {
     "end_time": "2020-01-26T19:26:56.474128Z",
     "start_time": "2020-01-26T19:26:56.368443Z"
    },
    "code_folding": [],
    "collapsed": true
   },
   "outputs": [],
   "source": [
    "# Bin shape columns\n",
    "bins = np.arange(0, 512, 4)\n",
    "groups = np.sort(np.concatenate([bins, bins, bins, bins]))\n",
    "\n",
    "CA1 = data_train.loc[:, 'CA1_0':'CA1_511'].T.groupby(groups).mean().T\n",
    "CA1.columns = ['CA1_b{}'.format(i) for i in range(len(bins))]\n",
    "CA2 = data_train.loc[:, 'CA2_0':'CA2_511'].T.groupby(groups).mean().T\n",
    "CA2.columns = ['CA2_b{}'.format(i) for i in range(len(bins))]\n",
    "\n",
    "newdata = pd.concat([CA1, CA2, data_train[fluor+['Size', 'TOF']]], axis=1)"
   ]
  },
  {
   "cell_type": "code",
   "execution_count": 24,
   "metadata": {
    "ExecuteTime": {
     "end_time": "2020-01-26T19:26:56.490620Z",
     "start_time": "2020-01-26T19:26:56.475655Z"
    },
    "code_folding": [],
    "collapsed": true
   },
   "outputs": [],
   "source": [
    "# Remove 20 bins from each edge of each array\n",
    "to_remove = ['CA1_b{}'.format(i) for i in range(20)] \\\n",
    "            + ['CA1_b{}'.format(i) for i in range(128-20, 128)] \\\n",
    "            + ['CA2_b{}'.format(i) for i in range(20)] \\\n",
    "            + ['CA2_b{}'.format(i) for i in range(128-20, 128)]\n",
    "\n",
    "newdata = newdata.drop(columns=to_remove)"
   ]
  },
  {
   "cell_type": "code",
   "execution_count": 25,
   "metadata": {
    "ExecuteTime": {
     "end_time": "2020-01-26T19:28:34.668507Z",
     "start_time": "2020-01-26T19:26:56.492720Z"
    },
    "code_folding": []
   },
   "outputs": [
    {
     "name": "stderr",
     "output_type": "stream",
     "text": [
      "5it [01:18, 15.75s/it]"
     ]
    },
    {
     "name": "stdout",
     "output_type": "stream",
     "text": [
      "Average performance metrics:\n",
      "Accuracy:  78.55 %\n",
      "Balanced accuracy:  77.87 %\n",
      "Precision: \n"
     ]
    },
    {
     "name": "stderr",
     "output_type": "stream",
     "text": [
      "\n"
     ]
    },
    {
     "data": {
      "text/plain": [
       "bacteria    0.891221\n",
       "fungal      0.278161\n",
       "non-bio     0.922222\n",
       "pollen      0.640404\n",
       "dtype: float64"
      ]
     },
     "metadata": {},
     "output_type": "display_data"
    },
    {
     "name": "stdout",
     "output_type": "stream",
     "text": [
      "AUC:  0.924166090922004\n",
      "Confusion matrix (sum):\n"
     ]
    },
    {
     "data": {
      "text/html": [
       "<div>\n",
       "<style scoped>\n",
       "    .dataframe tbody tr th:only-of-type {\n",
       "        vertical-align: middle;\n",
       "    }\n",
       "\n",
       "    .dataframe tbody tr th {\n",
       "        vertical-align: top;\n",
       "    }\n",
       "\n",
       "    .dataframe thead th {\n",
       "        text-align: right;\n",
       "    }\n",
       "</style>\n",
       "<table border=\"1\" class=\"dataframe\">\n",
       "  <thead>\n",
       "    <tr style=\"text-align: right;\">\n",
       "      <th></th>\n",
       "      <th>bacteria</th>\n",
       "      <th>fungal</th>\n",
       "      <th>non-bio</th>\n",
       "      <th>pollen</th>\n",
       "    </tr>\n",
       "  </thead>\n",
       "  <tbody>\n",
       "    <tr>\n",
       "      <th>bacteria</th>\n",
       "      <td>2335</td>\n",
       "      <td>42</td>\n",
       "      <td>116</td>\n",
       "      <td>33</td>\n",
       "    </tr>\n",
       "    <tr>\n",
       "      <th>fungal</th>\n",
       "      <td>8</td>\n",
       "      <td>363</td>\n",
       "      <td>137</td>\n",
       "      <td>68</td>\n",
       "    </tr>\n",
       "    <tr>\n",
       "      <th>non-bio</th>\n",
       "      <td>267</td>\n",
       "      <td>833</td>\n",
       "      <td>3569</td>\n",
       "      <td>255</td>\n",
       "    </tr>\n",
       "    <tr>\n",
       "      <th>pollen</th>\n",
       "      <td>10</td>\n",
       "      <td>67</td>\n",
       "      <td>48</td>\n",
       "      <td>634</td>\n",
       "    </tr>\n",
       "  </tbody>\n",
       "</table>\n",
       "</div>"
      ],
      "text/plain": [
       "          bacteria  fungal  non-bio  pollen\n",
       "bacteria      2335      42      116      33\n",
       "fungal           8     363      137      68\n",
       "non-bio        267     833     3569     255\n",
       "pollen          10      67       48     634"
      ]
     },
     "metadata": {},
     "output_type": "display_data"
    },
    {
     "name": "stdout",
     "output_type": "stream",
     "text": [
      "Feature importances:\n",
      "Fluorescence:\t 61.45 %\n",
      "Size:\t\t 2.92 %\n",
      "TOF:\t\t 13.67 %\n",
      "Shape:\t\t 21.95 %, (176 shape features)\n"
     ]
    }
   ],
   "source": [
    "X = newdata.copy()\n",
    "y = labels_train.replace(alt_labels)\n",
    "\n",
    "fivefoldcrossval(X, y)\n"
   ]
  },
  {
   "cell_type": "markdown",
   "metadata": {},
   "source": [
    "Cutting a fixed number of channels and then binning the shape data reduced the accuracy by ~1.2% compared to just removing the noise channels and not binning. Further tests would be needed to see if this difference is significant, but at least the approach seems viable."
   ]
  },
  {
   "cell_type": "markdown",
   "metadata": {},
   "source": [
    "One question remains, however, and this is something I will test. Is there something that is more robust than using the acutal array pixels? The instrument does calculate a range of statistics from the array signals. The question is how robust these are to noise and the background subtraction issue."
   ]
  },
  {
   "cell_type": "markdown",
   "metadata": {},
   "source": [
    "#### Bonus question: Are the shape statistics more robust?"
   ]
  },
  {
   "cell_type": "markdown",
   "metadata": {},
   "source": [
    "The shape statistics are calculated for both CMOS arrays (left and right). They include peak values, mean values, peak-to-mean ratio, and various standard statistics such as variance. They also include measures of asymmetry, i.e. how similar the left and right array are."
   ]
  },
  {
   "cell_type": "code",
   "execution_count": 26,
   "metadata": {
    "ExecuteTime": {
     "end_time": "2020-01-26T19:28:34.674038Z",
     "start_time": "2020-01-26T19:28:34.670943Z"
    }
   },
   "outputs": [
    {
     "name": "stdout",
     "output_type": "stream",
     "text": [
      "['SumL', 'SumR', 'PeakL', 'PeakR', 'MeanL', 'MeanR', 'PeakMeanL', 'PeakMeanR', 'VarianceL', 'VarianceR', 'SkewL', 'SkewR', 'KurtosisL', 'KurtosisR', 'PeakCountL', 'PeakCountR', 'PeakWidthL', 'PeakWidthR', 'MirrorL%', 'MirrorR%', 'AsymLR%', 'AsymLRinv%']\n"
     ]
    }
   ],
   "source": [
    "print(list(stats))"
   ]
  },
  {
   "cell_type": "markdown",
   "metadata": {},
   "source": [
    "The calculation of these parameters treats the full shape data as two distributions (one per array), which makes sense because it uses the knowledge that the array data are a reduced image of a particle refraction pattern. Below, shape spectra are illustrated for two different particles. I show both raw data and binned data, and also data that have been smoothed using a 5-pixel rolling average because I think the software does that before calculating the statistics (the manual does not describe it in detail)."
   ]
  },
  {
   "cell_type": "code",
   "execution_count": 27,
   "metadata": {
    "ExecuteTime": {
     "end_time": "2020-01-26T19:28:42.233935Z",
     "start_time": "2020-01-26T19:28:34.675314Z"
    },
    "code_folding": []
   },
   "outputs": [
    {
     "data": {
      "image/png": "[encoded data removed]",
      "text/plain": [
       "<Figure size 720x288 with 6 Axes>"
      ]
     },
     "metadata": {
      "needs_background": "light"
     },
     "output_type": "display_data"
    }
   ],
   "source": [
    "# Pick two particles\n",
    "particle1 = data_train.loc[:, shape].iloc[1000, :]\n",
    "particle2 = data_train.loc[:, shape].iloc[180, :]\n",
    "\n",
    "fig, ax = plt.subplots(nrows=2, ncols=3, figsize=(10, 4), sharey='col', sharex='row')\n",
    "\n",
    "# Raw\n",
    "ax[0, 0].set_title('Raw data')\n",
    "ax[0, 0].barh(np.arange(0, 512), -particle1.loc[:'CA1_511'],\n",
    "           height=1, color='C2', label='CMOS1')\n",
    "ax[0, 0].barh(np.arange(0, 512), particle1.loc['CA2_0':],\n",
    "           height=1, color='C1', label='CMOS2')\n",
    "ax[0, 0].set_xlim(-10, 10)\n",
    "ax[0, 0].legend()\n",
    "\n",
    "ax[1, 0].barh(np.arange(0, 512), -particle2.loc[:'CA1_511'],\n",
    "           height=1, color='C2')\n",
    "ax[1, 0].barh(np.arange(0, 512), particle2.loc['CA2_0':],\n",
    "           height=1, color='C1')\n",
    "ax[1, 0].set_xlim(-40, 40)\n",
    "\n",
    "# 5-pixel rolling\n",
    "ax[0, 1].set_title('5-pixel rolling mean')\n",
    "ax[0, 1].barh(np.arange(0, 512), -particle1.loc[:'CA1_511'].rolling(5).mean(),\n",
    "           height=1, color='C2', label='CMOS1')\n",
    "ax[0, 1].barh(np.arange(0, 512), particle1.loc['CA2_0':].rolling(5).mean(),\n",
    "           height=1, color='C1', label='CMOS2')\n",
    "\n",
    "ax[1, 1].barh(np.arange(0, 512), -particle2.loc[:'CA1_511'].rolling(5).mean(),\n",
    "           height=1, color='C2')\n",
    "ax[1, 1].barh(np.arange(0, 512), particle2.loc['CA2_0':].rolling(5).mean(),\n",
    "           height=1, color='C1')\n",
    "\n",
    "# Binned\n",
    "ax[0, 2].set_title('Binned (4 pixel average)')\n",
    "bins = np.arange(0, 512, 4)\n",
    "groups = np.sort(np.concatenate([bins, bins, bins, bins]))\n",
    "\n",
    "CA1 = particle1.loc[:'CA1_511'].groupby(groups).mean()\n",
    "CA2 = particle1.loc['CA2_0':].groupby(groups).mean()\n",
    "ax[0, 2].barh(np.arange(0, len(CA1)), -CA1, height=1, color='C2')\n",
    "ax[0, 2].barh(np.arange(0, len(CA1)), CA2, height=1, color='C1')\n",
    "\n",
    "CA1 = particle2.loc[:'CA1_511'].groupby(groups).mean()\n",
    "CA2 = particle2.loc['CA2_0':].groupby(groups).mean()\n",
    "ax[1, 2].barh(np.arange(0, len(CA1)), -CA1, height=1, color='C2')\n",
    "ax[1, 2].barh(np.arange(0, len(CA1)), CA2, height=1, color='C1')\n",
    "\n",
    "for i in range(2):\n",
    "    ax[i, 0].set_ylabel('channel')\n",
    "    \n",
    "for i in range(3):\n",
    "    ax[1, i].set_xlabel('intensity (au)')\n",
    "\n",
    "plt.tight_layout()\n",
    "plt.show()"
   ]
  },
  {
   "cell_type": "code",
   "execution_count": 28,
   "metadata": {
    "ExecuteTime": {
     "end_time": "2020-01-26T19:28:42.244349Z",
     "start_time": "2020-01-26T19:28:42.235767Z"
    },
    "collapsed": true
   },
   "outputs": [],
   "source": [
    "# Pick out features including the shape stats but not the full shape spectra\n",
    "# I'll call it reduced dataset (rds)\n",
    "labels_rds = data_all['label']\n",
    "data_rds = data_all.drop(columns=['label']+list(shape))"
   ]
  },
  {
   "cell_type": "code",
   "execution_count": 29,
   "metadata": {
    "ExecuteTime": {
     "end_time": "2020-01-26T19:28:42.272249Z",
     "start_time": "2020-01-26T19:28:42.246588Z"
    },
    "collapsed": true
   },
   "outputs": [],
   "source": [
    "# First split into training (50% of total data) and test (25% of total data) sets\n",
    "rds_train, rds_test, labels_rds_train, labels_rds_test = train_test_split(data_rds, labels_rds,\n",
    "                                                                          test_size=0.25,\n",
    "                                                                          train_size=0.5,\n",
    "                                                                          stratify=labels_rds,\n",
    "                                                                          shuffle=True,\n",
    "                                                                          random_state=0)"
   ]
  },
  {
   "cell_type": "code",
   "execution_count": 30,
   "metadata": {
    "ExecuteTime": {
     "end_time": "2020-01-26T19:29:10.432216Z",
     "start_time": "2020-01-26T19:28:42.273230Z"
    }
   },
   "outputs": [
    {
     "name": "stderr",
     "output_type": "stream",
     "text": [
      "5it [00:22,  4.57s/it]"
     ]
    },
    {
     "name": "stdout",
     "output_type": "stream",
     "text": [
      "Average performance metrics:\n",
      "Accuracy:  80.96 %\n",
      "Balanced accuracy:  80.8 %\n",
      "Precision: \n"
     ]
    },
    {
     "name": "stderr",
     "output_type": "stream",
     "text": [
      "\n"
     ]
    },
    {
     "data": {
      "text/plain": [
       "bacteria    0.883206\n",
       "fungal      0.478161\n",
       "non-bio     0.915245\n",
       "pollen      0.638384\n",
       "dtype: float64"
      ]
     },
     "metadata": {},
     "output_type": "display_data"
    },
    {
     "name": "stdout",
     "output_type": "stream",
     "text": [
      "AUC:  0.9342244970574045\n",
      "Confusion matrix (sum):\n"
     ]
    },
    {
     "data": {
      "text/html": [
       "<div>\n",
       "<style scoped>\n",
       "    .dataframe tbody tr th:only-of-type {\n",
       "        vertical-align: middle;\n",
       "    }\n",
       "\n",
       "    .dataframe tbody tr th {\n",
       "        vertical-align: top;\n",
       "    }\n",
       "\n",
       "    .dataframe thead th {\n",
       "        text-align: right;\n",
       "    }\n",
       "</style>\n",
       "<table border=\"1\" class=\"dataframe\">\n",
       "  <thead>\n",
       "    <tr style=\"text-align: right;\">\n",
       "      <th></th>\n",
       "      <th>bacteria</th>\n",
       "      <th>fungal</th>\n",
       "      <th>non-bio</th>\n",
       "      <th>pollen</th>\n",
       "    </tr>\n",
       "  </thead>\n",
       "  <tbody>\n",
       "    <tr>\n",
       "      <th>bacteria</th>\n",
       "      <td>2314</td>\n",
       "      <td>28</td>\n",
       "      <td>119</td>\n",
       "      <td>23</td>\n",
       "    </tr>\n",
       "    <tr>\n",
       "      <th>fungal</th>\n",
       "      <td>15</td>\n",
       "      <td>624</td>\n",
       "      <td>142</td>\n",
       "      <td>87</td>\n",
       "    </tr>\n",
       "    <tr>\n",
       "      <th>non-bio</th>\n",
       "      <td>278</td>\n",
       "      <td>595</td>\n",
       "      <td>3542</td>\n",
       "      <td>248</td>\n",
       "    </tr>\n",
       "    <tr>\n",
       "      <th>pollen</th>\n",
       "      <td>13</td>\n",
       "      <td>58</td>\n",
       "      <td>67</td>\n",
       "      <td>632</td>\n",
       "    </tr>\n",
       "  </tbody>\n",
       "</table>\n",
       "</div>"
      ],
      "text/plain": [
       "          bacteria  fungal  non-bio  pollen\n",
       "bacteria      2314      28      119      23\n",
       "fungal          15     624      142      87\n",
       "non-bio        278     595     3542     248\n",
       "pollen          13      58       67     632"
      ]
     },
     "metadata": {},
     "output_type": "display_data"
    },
    {
     "name": "stdout",
     "output_type": "stream",
     "text": [
      "Feature importances:\n",
      "Fluorescence:\t 60.11 %\n",
      "Size:\t\t 2.54 %\n",
      "TOF:\t\t 12.3 %\n",
      "Shape:\t\t 25.05 %, (22 shape features)\n"
     ]
    }
   ],
   "source": [
    "# Drop the noise channels in the data before learning the model\n",
    "X = rds_train.copy()\n",
    "y = labels_rds_train.replace(alt_labels)\n",
    "\n",
    "fivefoldcrossval(X, y)"
   ]
  },
  {
   "cell_type": "markdown",
   "metadata": {},
   "source": [
    "Well, at least the calculated statistics give almost the same accuracy as the full shape features with the redone background subtraction. That would suggest that they are at least robust to that issue. The precision for the fungal spore class is higher than the method where I removed the noise channels. Not sure if this indicates there is still an issue, but I think there are many advantages of using the calculated statistics anyway...\n",
    "\n",
    "&rarr; use stats instead of array pixels"
   ]
  },
  {
   "cell_type": "markdown",
   "metadata": {},
   "source": [
    "### Conclusions/final thoughts on features"
   ]
  },
  {
   "cell_type": "markdown",
   "metadata": {},
   "source": [
    "I trust that the array alignments have been calibrated correctly. However, it seems that there are still differences between individual arrays (both within one instrument and between different instruments). With the type of learning algorithm considered here, choices are made depending on each single feature. Thus, it only takes a shift of one pixel/channel between instruments for the model to no longer be generalisable to data collected with another instrument. All shape features together seem to make up around 20-25% of the classification decision, so it would be better if the model could be made more robust to the aforementioned CMOS array differences. Possible solutions: <br>\n",
    "* A combination of removing noise channels and either\n",
    "    - Smoothing or binning the shape data to make features comparable across MBS instruments, or\n",
    "    - Post-processing the shape data and re-centering the arrays before training the model, such that re-centred shape output from another instrument would result in features being \"the same\"\n",
    "\n",
    "* Using the shape statistics calculated by the instrument software, as these appear to be more robust to noise and would most likely also be more robust to array alignment differences. The instrument manual is brief, but it is possible that the data are smoothed (5-pixel rolling average is mentioned) before the statistics are calculated, which might explain why they are more robust.\n",
    "\n",
    "* Using a different type of learning algorithm\n",
    "\n",
    "I will use the calculated shape statistics, because those 22 features produce virutally the same accuracy as using all 1024 shape features, and also only marginally higher accuracy than all my attempts to reduce the full shape features (by removing noise, binning, etc), so I don't think they suffer from the background subtraction issue mentioned at the beginning of this notebook. They have the additional benefit that I can include the phosphate buffered saline samples.\n",
    "\n",
    "The calculated statistics also provide something that the CMOS array data cannot -- the calculation of the statistics, and the decision of which statistics are relevant, requires some domain knowledge. That is, additional knowledge is introduced into the model by the use of the calculated statistics. The model could not deduce this knowledge on its own, since it considers each array pixel separately from all the others while they could in fact be considered as \"units\" of a whole (or two halves), something which the statistics reflect.\n",
    "\n",
    "Another way to achieve this \"extra knowledge\" could perhaps be to represent the array data as a 2x512 image and instead use something like a convolutional neural network for the classification task."
   ]
  },
  {
   "cell_type": "markdown",
   "metadata": {},
   "source": [
    "## Training the model"
   ]
  },
  {
   "cell_type": "markdown",
   "metadata": {},
   "source": [
    "### Read in the data again"
   ]
  },
  {
   "cell_type": "code",
   "execution_count": 38,
   "metadata": {
    "ExecuteTime": {
     "end_time": "2020-01-26T19:34:28.897587Z",
     "start_time": "2020-01-26T19:34:00.178292Z"
    },
    "collapsed": true
   },
   "outputs": [],
   "source": [
    "data = read_MBS('./data/', redo_subtraction=True)"
   ]
  },
  {
   "cell_type": "code",
   "execution_count": 39,
   "metadata": {
    "ExecuteTime": {
     "end_time": "2020-01-26T19:34:33.685733Z",
     "start_time": "2020-01-26T19:34:33.436551Z"
    },
    "collapsed": true
   },
   "outputs": [],
   "source": [
    "# Drop forced trigger measurements (blanks)\n",
    "data = data[data.FT == 0]\n",
    "data.drop(columns=['FT'], inplace=True)"
   ]
  },
  {
   "cell_type": "markdown",
   "metadata": {},
   "source": [
    "Drop array pixels instead this time, and keep stats"
   ]
  },
  {
   "cell_type": "code",
   "execution_count": 40,
   "metadata": {
    "ExecuteTime": {
     "end_time": "2020-01-26T19:34:34.508234Z",
     "start_time": "2020-01-26T19:34:34.484101Z"
    },
    "collapsed": true
   },
   "outputs": [],
   "source": [
    "# Separate data from labels\n",
    "labels = data['label']\n",
    "data = data.drop(columns=['label']+list(shape))"
   ]
  },
  {
   "cell_type": "markdown",
   "metadata": {},
   "source": [
    "#### Split data into training, calibration, and test sets\n",
    "50% training <br>\n",
    "25% calibration <br>\n",
    "25% test"
   ]
  },
  {
   "cell_type": "code",
   "execution_count": 41,
   "metadata": {
    "ExecuteTime": {
     "end_time": "2020-01-26T19:34:35.393544Z",
     "start_time": "2020-01-26T19:34:35.351061Z"
    },
    "collapsed": true
   },
   "outputs": [],
   "source": [
    "# First split into training (50% of total data) and test (25% of total data) sets\n",
    "data_train, data_test, labels_train, labels_test = train_test_split(data, labels,\n",
    "                                                                    test_size=0.25,\n",
    "                                                                    train_size=0.5,\n",
    "                                                                    stratify=labels,\n",
    "                                                                    shuffle=True,\n",
    "                                                                    random_state=0)\n",
    "# The above used only 75% of the data.\n",
    "# The remaining 25% is also stratified and will be used as the calibration set.\n",
    "idx_cal = data.index ^ data_train.index ^ data_test.index\n",
    "idx_cal = np.random.permutation(idx_cal)\n",
    "data_cal, labels_cal = data.loc[idx_cal], labels.loc[idx_cal]"
   ]
  },
  {
   "cell_type": "markdown",
   "metadata": {},
   "source": [
    "### Baseline model, default hyperparameters"
   ]
  },
  {
   "cell_type": "code",
   "execution_count": 42,
   "metadata": {
    "ExecuteTime": {
     "end_time": "2020-01-26T19:34:37.597759Z",
     "start_time": "2020-01-26T19:34:37.593990Z"
    }
   },
   "outputs": [
    {
     "data": {
      "text/plain": [
       "(9478, 32)"
      ]
     },
     "execution_count": 42,
     "metadata": {},
     "output_type": "execute_result"
    }
   ],
   "source": [
    "data_train.shape"
   ]
  },
  {
   "cell_type": "code",
   "execution_count": 43,
   "metadata": {
    "ExecuteTime": {
     "end_time": "2020-01-26T19:35:25.877450Z",
     "start_time": "2020-01-26T19:34:54.505423Z"
    },
    "scrolled": false
   },
   "outputs": [
    {
     "name": "stderr",
     "output_type": "stream",
     "text": [
      "5it [00:24,  4.99s/it]"
     ]
    },
    {
     "name": "stdout",
     "output_type": "stream",
     "text": [
      "Average performance metrics:\n",
      "Accuracy:  82.63 %\n",
      "Balanced accuracy:  82.69 %\n",
      "Precision: \n"
     ]
    },
    {
     "name": "stderr",
     "output_type": "stream",
     "text": [
      "\n"
     ]
    },
    {
     "data": {
      "text/plain": [
       "bacteria    0.875573\n",
       "fungal      0.485057\n",
       "non-bio     0.938445\n",
       "pollen      0.628283\n",
       "dtype: float64"
      ]
     },
     "metadata": {},
     "output_type": "display_data"
    },
    {
     "name": "stdout",
     "output_type": "stream",
     "text": [
      "AUC:  0.937504026837375\n",
      "Confusion matrix (sum):\n"
     ]
    },
    {
     "data": {
      "text/html": [
       "<div>\n",
       "<style scoped>\n",
       "    .dataframe tbody tr th:only-of-type {\n",
       "        vertical-align: middle;\n",
       "    }\n",
       "\n",
       "    .dataframe tbody tr th {\n",
       "        vertical-align: top;\n",
       "    }\n",
       "\n",
       "    .dataframe thead th {\n",
       "        text-align: right;\n",
       "    }\n",
       "</style>\n",
       "<table border=\"1\" class=\"dataframe\">\n",
       "  <thead>\n",
       "    <tr style=\"text-align: right;\">\n",
       "      <th></th>\n",
       "      <th>bacteria</th>\n",
       "      <th>fungal</th>\n",
       "      <th>non-bio</th>\n",
       "      <th>pollen</th>\n",
       "    </tr>\n",
       "  </thead>\n",
       "  <tbody>\n",
       "    <tr>\n",
       "      <th>bacteria</th>\n",
       "      <td>2294</td>\n",
       "      <td>13</td>\n",
       "      <td>99</td>\n",
       "      <td>27</td>\n",
       "    </tr>\n",
       "    <tr>\n",
       "      <th>fungal</th>\n",
       "      <td>11</td>\n",
       "      <td>633</td>\n",
       "      <td>138</td>\n",
       "      <td>86</td>\n",
       "    </tr>\n",
       "    <tr>\n",
       "      <th>non-bio</th>\n",
       "      <td>308</td>\n",
       "      <td>597</td>\n",
       "      <td>4284</td>\n",
       "      <td>255</td>\n",
       "    </tr>\n",
       "    <tr>\n",
       "      <th>pollen</th>\n",
       "      <td>7</td>\n",
       "      <td>62</td>\n",
       "      <td>44</td>\n",
       "      <td>622</td>\n",
       "    </tr>\n",
       "  </tbody>\n",
       "</table>\n",
       "</div>"
      ],
      "text/plain": [
       "          bacteria  fungal  non-bio  pollen\n",
       "bacteria      2294      13       99      27\n",
       "fungal          11     633      138      86\n",
       "non-bio        308     597     4284     255\n",
       "pollen           7      62       44     622"
      ]
     },
     "metadata": {},
     "output_type": "display_data"
    },
    {
     "name": "stdout",
     "output_type": "stream",
     "text": [
      "Feature importances:\n"
     ]
    },
    {
     "data": {
      "image/png": "[encoded data removed]",
      "text/plain": [
       "<Figure size 432x288 with 1 Axes>"
      ]
     },
     "metadata": {
      "needs_background": "light"
     },
     "output_type": "display_data"
    }
   ],
   "source": [
    "X = data_train.copy()\n",
    "y = labels_train.replace(alt_labels)\n",
    "\n",
    "fivefoldcrossval(X, y, plot=True)"
   ]
  },
  {
   "cell_type": "markdown",
   "metadata": {},
   "source": [
    "### Hyperparameter tuning"
   ]
  },
  {
   "cell_type": "markdown",
   "metadata": {},
   "source": [
    "Following the general recommendations from <a href='https://www.analyticsvidhya.com/blog/2016/02/complete-guide-parameter-tuning-gradient-boosting-gbm-python/'>here</a> for hyperparmeter tuning"
   ]
  },
  {
   "cell_type": "markdown",
   "metadata": {},
   "source": [
    "#### Tuning the number of estimators"
   ]
  },
  {
   "cell_type": "code",
   "execution_count": 44,
   "metadata": {
    "ExecuteTime": {
     "end_time": "2020-01-26T19:38:01.381606Z",
     "start_time": "2020-01-26T19:36:23.109867Z"
    }
   },
   "outputs": [
    {
     "name": "stderr",
     "output_type": "stream",
     "text": [
      "100%|██████████| 9/9 [01:38<00:00, 13.59s/it]\n"
     ]
    },
    {
     "data": {
      "text/html": [
       "<div>\n",
       "<style scoped>\n",
       "    .dataframe tbody tr th:only-of-type {\n",
       "        vertical-align: middle;\n",
       "    }\n",
       "\n",
       "    .dataframe tbody tr th {\n",
       "        vertical-align: top;\n",
       "    }\n",
       "\n",
       "    .dataframe thead th {\n",
       "        text-align: right;\n",
       "    }\n",
       "</style>\n",
       "<table border=\"1\" class=\"dataframe\">\n",
       "  <thead>\n",
       "    <tr style=\"text-align: right;\">\n",
       "      <th></th>\n",
       "      <th>mean</th>\n",
       "      <th>std</th>\n",
       "    </tr>\n",
       "  </thead>\n",
       "  <tbody>\n",
       "    <tr>\n",
       "      <th>80</th>\n",
       "      <td>0.9434</td>\n",
       "      <td>0.0028</td>\n",
       "    </tr>\n",
       "    <tr>\n",
       "      <th>100</th>\n",
       "      <td>0.9434</td>\n",
       "      <td>0.0027</td>\n",
       "    </tr>\n",
       "    <tr>\n",
       "      <th>90</th>\n",
       "      <td>0.9432</td>\n",
       "      <td>0.0027</td>\n",
       "    </tr>\n",
       "    <tr>\n",
       "      <th>70</th>\n",
       "      <td>0.9430</td>\n",
       "      <td>0.0026</td>\n",
       "    </tr>\n",
       "    <tr>\n",
       "      <th>60</th>\n",
       "      <td>0.9427</td>\n",
       "      <td>0.0027</td>\n",
       "    </tr>\n",
       "  </tbody>\n",
       "</table>\n",
       "</div>"
      ],
      "text/plain": [
       "       mean     std\n",
       "80   0.9434  0.0028\n",
       "100  0.9434  0.0027\n",
       "90   0.9432  0.0027\n",
       "70   0.9430  0.0026\n",
       "60   0.9427  0.0027"
      ]
     },
     "metadata": {},
     "output_type": "display_data"
    }
   ],
   "source": [
    "X = data_train.copy()\n",
    "y = labels_train.replace(alt_labels)\n",
    "\n",
    "parameters = range(20,101,10)\n",
    "\n",
    "results = np.zeros((len(parameters), 2))\n",
    "\n",
    "for i, n in enumerate(tqdm(parameters)):\n",
    "    args = {'min_samples_split': 50, 'min_samples_leaf': 5,\n",
    "            'max_depth': 7, 'max_features': 'sqrt', \n",
    "            'n_estimators': n, 'subsample': 0.8, 'learning_rate': 0.1}\n",
    "    results[i] = fivefold_score(X, y, **args)\n",
    "\n",
    "results = pd.DataFrame(results, index=parameters, columns=['mean', 'std'])\n",
    "\n",
    "display(results.sort_values(by='mean', ascending=False).head())"
   ]
  },
  {
   "cell_type": "markdown",
   "metadata": {},
   "source": [
    "* There's not much variation in the AUC scores, it's all within the standard deviations... it seems to sort of just oscillate after 70 estimators, so I'll go for 80 since it doesn't really improve after that and a lower value will hopefully speed up the rest of the tuning."
   ]
  },
  {
   "cell_type": "markdown",
   "metadata": {},
   "source": [
    "#### Tuning max_depth and min_samples_split"
   ]
  },
  {
   "cell_type": "code",
   "execution_count": 45,
   "metadata": {
    "ExecuteTime": {
     "end_time": "2020-01-26T19:56:28.013140Z",
     "start_time": "2020-01-26T19:38:40.083338Z"
    },
    "scrolled": false
   },
   "outputs": [
    {
     "name": "stderr",
     "output_type": "stream",
     "text": [
      "100%|██████████| 63/63 [17:47<00:00, 24.56s/it]\n"
     ]
    },
    {
     "data": {
      "text/html": [
       "<div>\n",
       "<style scoped>\n",
       "    .dataframe tbody tr th:only-of-type {\n",
       "        vertical-align: middle;\n",
       "    }\n",
       "\n",
       "    .dataframe tbody tr th {\n",
       "        vertical-align: top;\n",
       "    }\n",
       "\n",
       "    .dataframe thead th {\n",
       "        text-align: right;\n",
       "    }\n",
       "</style>\n",
       "<table border=\"1\" class=\"dataframe\">\n",
       "  <thead>\n",
       "    <tr style=\"text-align: right;\">\n",
       "      <th></th>\n",
       "      <th></th>\n",
       "      <th>mean</th>\n",
       "      <th>std</th>\n",
       "    </tr>\n",
       "    <tr>\n",
       "      <th>max_depth</th>\n",
       "      <th>min_samples_split</th>\n",
       "      <th></th>\n",
       "      <th></th>\n",
       "    </tr>\n",
       "  </thead>\n",
       "  <tbody>\n",
       "    <tr>\n",
       "      <th rowspan=\"2\" valign=\"top\">11</th>\n",
       "      <th>90</th>\n",
       "      <td>0.9445</td>\n",
       "      <td>0.0037</td>\n",
       "    </tr>\n",
       "    <tr>\n",
       "      <th>100</th>\n",
       "      <td>0.9445</td>\n",
       "      <td>0.0030</td>\n",
       "    </tr>\n",
       "    <tr>\n",
       "      <th>9</th>\n",
       "      <th>60</th>\n",
       "      <td>0.9443</td>\n",
       "      <td>0.0024</td>\n",
       "    </tr>\n",
       "    <tr>\n",
       "      <th>11</th>\n",
       "      <th>70</th>\n",
       "      <td>0.9443</td>\n",
       "      <td>0.0032</td>\n",
       "    </tr>\n",
       "    <tr>\n",
       "      <th>13</th>\n",
       "      <th>50</th>\n",
       "      <td>0.9443</td>\n",
       "      <td>0.0034</td>\n",
       "    </tr>\n",
       "  </tbody>\n",
       "</table>\n",
       "</div>"
      ],
      "text/plain": [
       "                               mean     std\n",
       "max_depth min_samples_split                \n",
       "11        90                 0.9445  0.0037\n",
       "          100                0.9445  0.0030\n",
       "9         60                 0.9443  0.0024\n",
       "11        70                 0.9443  0.0032\n",
       "13        50                 0.9443  0.0034"
      ]
     },
     "metadata": {},
     "output_type": "display_data"
    }
   ],
   "source": [
    "max_depths = range(3, 16, 2)\n",
    "min_samples_splits = range(20, 101, 10)\n",
    "\n",
    "parameters = [(md, mss) for md in max_depths for mss in min_samples_splits]\n",
    "\n",
    "results = np.zeros((len(parameters),2))\n",
    "\n",
    "for i, (md, mss) in enumerate(tqdm(parameters)):\n",
    "    args = {'min_samples_split': mss, 'min_samples_leaf': 5,\n",
    "            'max_depth': md, 'max_features': 'sqrt',\n",
    "            'n_estimators': 80, 'subsample': 0.8, 'learning_rate': 0.1}\n",
    "    results[i] = fivefold_score(X, y, **args)\n",
    "    \n",
    "results = pd.DataFrame(results, index=pd.MultiIndex.from_tuples(parameters, names=['max_depth', 'min_samples_split']),\n",
    "                       columns=['mean', 'std'])\n",
    "\n",
    "display(results.sort_values(by='mean', ascending=False).head())"
   ]
  },
  {
   "cell_type": "markdown",
   "metadata": {},
   "source": [
    "* The combination max_depth=9, min_samples_split=60 gives a high mean AUC with the lowest standard deviation (among the high AUC values). Keeping the depth low should minimise overfitting?"
   ]
  },
  {
   "cell_type": "markdown",
   "metadata": {},
   "source": [
    "#### Tuning min_samples_leaf"
   ]
  },
  {
   "cell_type": "code",
   "execution_count": 46,
   "metadata": {
    "ExecuteTime": {
     "end_time": "2020-01-26T19:58:40.568893Z",
     "start_time": "2020-01-26T19:56:28.015219Z"
    },
    "scrolled": false
   },
   "outputs": [
    {
     "name": "stderr",
     "output_type": "stream",
     "text": [
      "100%|██████████| 8/8 [02:12<00:00, 16.52s/it]\n"
     ]
    },
    {
     "data": {
      "text/html": [
       "<div>\n",
       "<style scoped>\n",
       "    .dataframe tbody tr th:only-of-type {\n",
       "        vertical-align: middle;\n",
       "    }\n",
       "\n",
       "    .dataframe tbody tr th {\n",
       "        vertical-align: top;\n",
       "    }\n",
       "\n",
       "    .dataframe thead th {\n",
       "        text-align: right;\n",
       "    }\n",
       "</style>\n",
       "<table border=\"1\" class=\"dataframe\">\n",
       "  <thead>\n",
       "    <tr style=\"text-align: right;\">\n",
       "      <th></th>\n",
       "      <th>mean</th>\n",
       "      <th>std</th>\n",
       "    </tr>\n",
       "  </thead>\n",
       "  <tbody>\n",
       "    <tr>\n",
       "      <th>4</th>\n",
       "      <td>0.9446</td>\n",
       "      <td>0.0025</td>\n",
       "    </tr>\n",
       "    <tr>\n",
       "      <th>9</th>\n",
       "      <td>0.9444</td>\n",
       "      <td>0.0031</td>\n",
       "    </tr>\n",
       "    <tr>\n",
       "      <th>5</th>\n",
       "      <td>0.9443</td>\n",
       "      <td>0.0024</td>\n",
       "    </tr>\n",
       "    <tr>\n",
       "      <th>7</th>\n",
       "      <td>0.9443</td>\n",
       "      <td>0.0031</td>\n",
       "    </tr>\n",
       "    <tr>\n",
       "      <th>3</th>\n",
       "      <td>0.9441</td>\n",
       "      <td>0.0035</td>\n",
       "    </tr>\n",
       "    <tr>\n",
       "      <th>6</th>\n",
       "      <td>0.9440</td>\n",
       "      <td>0.0034</td>\n",
       "    </tr>\n",
       "    <tr>\n",
       "      <th>2</th>\n",
       "      <td>0.9436</td>\n",
       "      <td>0.0031</td>\n",
       "    </tr>\n",
       "    <tr>\n",
       "      <th>8</th>\n",
       "      <td>0.9433</td>\n",
       "      <td>0.0030</td>\n",
       "    </tr>\n",
       "  </tbody>\n",
       "</table>\n",
       "</div>"
      ],
      "text/plain": [
       "     mean     std\n",
       "4  0.9446  0.0025\n",
       "9  0.9444  0.0031\n",
       "5  0.9443  0.0024\n",
       "7  0.9443  0.0031\n",
       "3  0.9441  0.0035\n",
       "6  0.9440  0.0034\n",
       "2  0.9436  0.0031\n",
       "8  0.9433  0.0030"
      ]
     },
     "execution_count": 46,
     "metadata": {},
     "output_type": "execute_result"
    }
   ],
   "source": [
    "parameters = range(2,10,1)\n",
    "\n",
    "results = np.zeros((len(parameters), 2))\n",
    "\n",
    "for i, n in enumerate(tqdm(parameters)):\n",
    "    args = {'min_samples_split': 60, 'min_samples_leaf': n,\n",
    "            'max_depth': 9, 'max_features': 'sqrt',\n",
    "            'n_estimators': 80, 'subsample': 0.8, 'learning_rate': 0.1}\n",
    "    results[i] = fivefold_score(X, y, **args)\n",
    "\n",
    "results = pd.DataFrame(results, index=parameters, columns=['mean', 'std'])\n",
    "\n",
    "results.sort_values(by='mean', ascending=False)"
   ]
  },
  {
   "cell_type": "markdown",
   "metadata": {},
   "source": [
    "* min_samples_leaf=4 has the highest AUC with low std. Keeping it small should also help for unbalanced samples (as we have here) ? Although a higher number might be smoother..."
   ]
  },
  {
   "cell_type": "markdown",
   "metadata": {},
   "source": [
    "#### Tune max_features"
   ]
  },
  {
   "cell_type": "code",
   "execution_count": 47,
   "metadata": {
    "ExecuteTime": {
     "end_time": "2020-01-26T20:02:19.059919Z",
     "start_time": "2020-01-26T19:58:40.570465Z"
    },
    "scrolled": false
   },
   "outputs": [
    {
     "name": "stderr",
     "output_type": "stream",
     "text": [
      "100%|██████████| 7/7 [03:38<00:00, 37.35s/it]\n"
     ]
    },
    {
     "data": {
      "text/html": [
       "<div>\n",
       "<style scoped>\n",
       "    .dataframe tbody tr th:only-of-type {\n",
       "        vertical-align: middle;\n",
       "    }\n",
       "\n",
       "    .dataframe tbody tr th {\n",
       "        vertical-align: top;\n",
       "    }\n",
       "\n",
       "    .dataframe thead th {\n",
       "        text-align: right;\n",
       "    }\n",
       "</style>\n",
       "<table border=\"1\" class=\"dataframe\">\n",
       "  <thead>\n",
       "    <tr style=\"text-align: right;\">\n",
       "      <th></th>\n",
       "      <th>mean</th>\n",
       "      <th>std</th>\n",
       "    </tr>\n",
       "  </thead>\n",
       "  <tbody>\n",
       "    <tr>\n",
       "      <th>5</th>\n",
       "      <td>0.9446</td>\n",
       "      <td>0.0025</td>\n",
       "    </tr>\n",
       "    <tr>\n",
       "      <th>sqrt</th>\n",
       "      <td>0.9446</td>\n",
       "      <td>0.0025</td>\n",
       "    </tr>\n",
       "    <tr>\n",
       "      <th>9</th>\n",
       "      <td>0.9438</td>\n",
       "      <td>0.0025</td>\n",
       "    </tr>\n",
       "    <tr>\n",
       "      <th>7</th>\n",
       "      <td>0.9434</td>\n",
       "      <td>0.0031</td>\n",
       "    </tr>\n",
       "    <tr>\n",
       "      <th>auto</th>\n",
       "      <td>0.9429</td>\n",
       "      <td>0.0040</td>\n",
       "    </tr>\n",
       "    <tr>\n",
       "      <th>NaN</th>\n",
       "      <td>0.9429</td>\n",
       "      <td>0.0040</td>\n",
       "    </tr>\n",
       "    <tr>\n",
       "      <th>3</th>\n",
       "      <td>0.9422</td>\n",
       "      <td>0.0032</td>\n",
       "    </tr>\n",
       "  </tbody>\n",
       "</table>\n",
       "</div>"
      ],
      "text/plain": [
       "        mean     std\n",
       "5     0.9446  0.0025\n",
       "sqrt  0.9446  0.0025\n",
       "9     0.9438  0.0025\n",
       "7     0.9434  0.0031\n",
       "auto  0.9429  0.0040\n",
       "NaN   0.9429  0.0040\n",
       "3     0.9422  0.0032"
      ]
     },
     "execution_count": 47,
     "metadata": {},
     "output_type": "execute_result"
    }
   ],
   "source": [
    "parameters = range(5,16,2)\n",
    "\n",
    "parameters = [3, 5, 'sqrt', 'auto', 7, 9, None]\n",
    "\n",
    "results = np.zeros((len(parameters), 2))\n",
    "\n",
    "for i, n in enumerate(tqdm(parameters)):\n",
    "    args = {'min_samples_split': 60, 'min_samples_leaf': 4,\n",
    "            'max_depth': 9, 'max_features': n,\n",
    "            'n_estimators': 80, 'subsample': 0.8, 'learning_rate': 0.1}\n",
    "    results[i] = fivefold_score(X, y, **args)\n",
    "\n",
    "results = pd.DataFrame(results, index=parameters, columns=['mean', 'std'])\n",
    "\n",
    "results.sort_values(by='mean', ascending=False)"
   ]
  },
  {
   "cell_type": "markdown",
   "metadata": {},
   "source": [
    "* Let's go for 'sqrt' then, as that was the recommended starting point according to the instructions I'm following"
   ]
  },
  {
   "cell_type": "markdown",
   "metadata": {},
   "source": [
    "#### Tune subsample"
   ]
  },
  {
   "cell_type": "code",
   "execution_count": 48,
   "metadata": {
    "ExecuteTime": {
     "end_time": "2020-01-26T20:04:14.821144Z",
     "start_time": "2020-01-26T20:02:19.062120Z"
    },
    "scrolled": false
   },
   "outputs": [
    {
     "name": "stderr",
     "output_type": "stream",
     "text": [
      "100%|██████████| 7/7 [01:55<00:00, 17.05s/it]\n"
     ]
    },
    {
     "data": {
      "text/html": [
       "<div>\n",
       "<style scoped>\n",
       "    .dataframe tbody tr th:only-of-type {\n",
       "        vertical-align: middle;\n",
       "    }\n",
       "\n",
       "    .dataframe tbody tr th {\n",
       "        vertical-align: top;\n",
       "    }\n",
       "\n",
       "    .dataframe thead th {\n",
       "        text-align: right;\n",
       "    }\n",
       "</style>\n",
       "<table border=\"1\" class=\"dataframe\">\n",
       "  <thead>\n",
       "    <tr style=\"text-align: right;\">\n",
       "      <th></th>\n",
       "      <th>mean</th>\n",
       "      <th>std</th>\n",
       "    </tr>\n",
       "  </thead>\n",
       "  <tbody>\n",
       "    <tr>\n",
       "      <th>0.80</th>\n",
       "      <td>0.9446</td>\n",
       "      <td>0.0025</td>\n",
       "    </tr>\n",
       "    <tr>\n",
       "      <th>0.75</th>\n",
       "      <td>0.9438</td>\n",
       "      <td>0.0038</td>\n",
       "    </tr>\n",
       "    <tr>\n",
       "      <th>0.85</th>\n",
       "      <td>0.9438</td>\n",
       "      <td>0.0030</td>\n",
       "    </tr>\n",
       "    <tr>\n",
       "      <th>0.70</th>\n",
       "      <td>0.9437</td>\n",
       "      <td>0.0029</td>\n",
       "    </tr>\n",
       "    <tr>\n",
       "      <th>0.90</th>\n",
       "      <td>0.9437</td>\n",
       "      <td>0.0034</td>\n",
       "    </tr>\n",
       "    <tr>\n",
       "      <th>1.00</th>\n",
       "      <td>0.9436</td>\n",
       "      <td>0.0031</td>\n",
       "    </tr>\n",
       "    <tr>\n",
       "      <th>0.60</th>\n",
       "      <td>0.9430</td>\n",
       "      <td>0.0028</td>\n",
       "    </tr>\n",
       "  </tbody>\n",
       "</table>\n",
       "</div>"
      ],
      "text/plain": [
       "        mean     std\n",
       "0.80  0.9446  0.0025\n",
       "0.75  0.9438  0.0038\n",
       "0.85  0.9438  0.0030\n",
       "0.70  0.9437  0.0029\n",
       "0.90  0.9437  0.0034\n",
       "1.00  0.9436  0.0031\n",
       "0.60  0.9430  0.0028"
      ]
     },
     "execution_count": 48,
     "metadata": {},
     "output_type": "execute_result"
    }
   ],
   "source": [
    "parameters = [0.6,0.7,0.75,0.8,0.85,0.9, 1]\n",
    "\n",
    "results = np.zeros((len(parameters), 2))\n",
    "\n",
    "for i, n in enumerate(tqdm(parameters)):\n",
    "    args = {'min_samples_split': 60, 'min_samples_leaf': 4,\n",
    "            'max_depth': 9, 'max_features': 'sqrt',\n",
    "            'n_estimators': 80, 'subsample': n, 'learning_rate': 0.1}\n",
    "    results[i] = fivefold_score(X, y, **args)\n",
    "\n",
    "results = pd.DataFrame(results, index=parameters, columns=['mean', 'std'])\n",
    "\n",
    "results.sort_values(by='mean', ascending=False)"
   ]
  },
  {
   "cell_type": "markdown",
   "metadata": {},
   "source": [
    "#### Tuned model"
   ]
  },
  {
   "cell_type": "code",
   "execution_count": 55,
   "metadata": {
    "ExecuteTime": {
     "end_time": "2020-01-26T20:06:43.536400Z",
     "start_time": "2020-01-26T20:06:43.526069Z"
    },
    "collapsed": true
   },
   "outputs": [],
   "source": [
    "args = {'min_samples_split': 60, 'min_samples_leaf': 4,\n",
    "            'max_depth': 9, 'max_features': 'sqrt',\n",
    "            'n_estimators': 80, 'subsample': 0.8, 'learning_rate': 0.1}\n",
    "\n",
    "model = GradientBoostingClassifier(random_state=0, **args)"
   ]
  },
  {
   "cell_type": "code",
   "execution_count": 56,
   "metadata": {
    "ExecuteTime": {
     "end_time": "2020-01-26T20:07:05.076210Z",
     "start_time": "2020-01-26T20:06:43.887807Z"
    }
   },
   "outputs": [
    {
     "name": "stderr",
     "output_type": "stream",
     "text": [
      "5it [00:16,  3.40s/it]"
     ]
    },
    {
     "name": "stdout",
     "output_type": "stream",
     "text": [
      "Average performance metrics:\n",
      "Accuracy:  83.71 %\n",
      "Balanced accuracy:  83.59 %\n",
      "Precision: \n"
     ]
    },
    {
     "name": "stderr",
     "output_type": "stream",
     "text": [
      "\n"
     ]
    },
    {
     "data": {
      "text/plain": [
       "bacteria    0.879008\n",
       "fungal      0.542529\n",
       "non-bio     0.937568\n",
       "pollen      0.651515\n",
       "dtype: float64"
      ]
     },
     "metadata": {},
     "output_type": "display_data"
    },
    {
     "name": "stdout",
     "output_type": "stream",
     "text": [
      "AUC:  0.9445730281123896\n",
      "Confusion matrix (sum):\n"
     ]
    },
    {
     "data": {
      "text/html": [
       "<div>\n",
       "<style scoped>\n",
       "    .dataframe tbody tr th:only-of-type {\n",
       "        vertical-align: middle;\n",
       "    }\n",
       "\n",
       "    .dataframe tbody tr th {\n",
       "        vertical-align: top;\n",
       "    }\n",
       "\n",
       "    .dataframe thead th {\n",
       "        text-align: right;\n",
       "    }\n",
       "</style>\n",
       "<table border=\"1\" class=\"dataframe\">\n",
       "  <thead>\n",
       "    <tr style=\"text-align: right;\">\n",
       "      <th></th>\n",
       "      <th>bacteria</th>\n",
       "      <th>fungal</th>\n",
       "      <th>non-bio</th>\n",
       "      <th>pollen</th>\n",
       "    </tr>\n",
       "  </thead>\n",
       "  <tbody>\n",
       "    <tr>\n",
       "      <th>bacteria</th>\n",
       "      <td>2303</td>\n",
       "      <td>18</td>\n",
       "      <td>97</td>\n",
       "      <td>24</td>\n",
       "    </tr>\n",
       "    <tr>\n",
       "      <th>fungal</th>\n",
       "      <td>10</td>\n",
       "      <td>708</td>\n",
       "      <td>159</td>\n",
       "      <td>105</td>\n",
       "    </tr>\n",
       "    <tr>\n",
       "      <th>non-bio</th>\n",
       "      <td>300</td>\n",
       "      <td>522</td>\n",
       "      <td>4280</td>\n",
       "      <td>216</td>\n",
       "    </tr>\n",
       "    <tr>\n",
       "      <th>pollen</th>\n",
       "      <td>7</td>\n",
       "      <td>57</td>\n",
       "      <td>29</td>\n",
       "      <td>645</td>\n",
       "    </tr>\n",
       "  </tbody>\n",
       "</table>\n",
       "</div>"
      ],
      "text/plain": [
       "          bacteria  fungal  non-bio  pollen\n",
       "bacteria      2303      18       97      24\n",
       "fungal          10     708      159     105\n",
       "non-bio        300     522     4280     216\n",
       "pollen           7      57       29     645"
      ]
     },
     "metadata": {},
     "output_type": "display_data"
    },
    {
     "name": "stdout",
     "output_type": "stream",
     "text": [
      "Feature importances:\n"
     ]
    },
    {
     "data": {
      "image/png": "[encoded data removed]",
      "text/plain": [
       "<Figure size 432x288 with 1 Axes>"
      ]
     },
     "metadata": {
      "needs_background": "light"
     },
     "output_type": "display_data"
    }
   ],
   "source": [
    "X = data_train.copy()\n",
    "y = labels_train.replace(alt_labels)\n",
    "\n",
    "fivefoldcrossval(X, y, plot=True, **args)"
   ]
  },
  {
   "cell_type": "markdown",
   "metadata": {},
   "source": [
    "* The accuracy and AUC have improved slightly\n",
    "* The feature importance is much more balanced. This is probably a good thing, since it means the model can utilise more of the available information?"
   ]
  },
  {
   "cell_type": "code",
   "execution_count": null,
   "metadata": {
    "collapsed": true
   },
   "outputs": [],
   "source": []
  }
 ],
 "metadata": {
  "kernelspec": {
   "display_name": "Python [conda env:py37env]",
   "language": "python",
   "name": "conda-env-py37env-py"
  },
  "language_info": {
   "codemirror_mode": {
    "name": "ipython",
    "version": 3
   },
   "file_extension": ".py",
   "mimetype": "text/x-python",
   "name": "python",
   "nbconvert_exporter": "python",
   "pygments_lexer": "ipython3",
   "version": "3.7.2"
  },
  "toc": {
   "nav_menu": {},
   "number_sections": true,
   "sideBar": true,
   "skip_h1_title": false,
   "title_cell": "Table of Contents",
   "title_sidebar": "Contents",
   "toc_cell": false,
   "toc_position": {},
   "toc_section_display": true,
   "toc_window_display": true
  }
 },
 "nbformat": 4,
 "nbformat_minor": 2
}
